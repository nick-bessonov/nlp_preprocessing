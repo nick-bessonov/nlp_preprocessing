{
 "cells": [
  {
   "cell_type": "code",
   "execution_count": 89,
   "metadata": {},
   "outputs": [],
   "source": [
    "from pyaspeller import YandexSpeller, Word\n",
    "from spellchecker import SpellChecker\n",
    "from tqdm import tqdm\n",
    "from datetime import datetime\n",
    "\n",
    "speller = YandexSpeller()\n",
    "russian = SpellChecker(language='ru')"
   ]
  },
  {
   "cell_type": "code",
   "execution_count": 100,
   "metadata": {},
   "outputs": [
    {
     "name": "stderr",
     "output_type": "stream",
     "text": [
      "100%|██████████| 1/1 [00:00<00:00,  1.18it/s]\n",
      "100%|██████████| 1/1 [00:00<00:00, 1001.74it/s]"
     ]
    },
    {
     "name": "stdout",
     "output_type": "stream",
     "text": [
      "Time yandex spellchecker 0:00:00.851609\n",
      "Иванов \n",
      "Time pyspellchecker 0:00:00.008000\n",
      "Иванов иванова \n"
     ]
    },
    {
     "name": "stderr",
     "output_type": "stream",
     "text": [
      "\n"
     ]
    }
   ],
   "source": [
    "s = 'В суббботу утромь. Кружок3 летел в верх насонце в месте скаровой также в метро смотрель ехал че3рт. В суббботу утромь. Кружок3 летел в верх насонце в месте скаровой также в метро смотрель ехал че3рт. В суббботу утромь. Кружок3 летел в верх насонце в месте скаровой также в метро смотрель ехал че3рт. В суббботу утромь. Кружок3 летел в верх насонце в месте скаровой также в метро смотрель ехал че3рт. В суббботу утромь. Кружок3 летел в верх насонце в месте скаровой также в метро смотрель ехал че3рт. В суббботу утромь. Кружок3 летел в верх насонце в месте скаровой также в метро смотрель ехал че3рт.'\n",
    "s = 'Иванов'\n",
    "ss = ''\n",
    "\n",
    "\n",
    "start = datetime.now()\n",
    "\n",
    "for w in tqdm(s.split(' ')):\n",
    "    check = Word(w)\n",
    "    if not check.correct:\n",
    "        w = check.spellsafe\n",
    "    ss += w + ' '\n",
    "    \n",
    "end_time = datetime.now() - start\n",
    "print('Time yandex spellchecker {}'.format(end_time))\n",
    "print(ss)\n",
    "\n",
    "start = datetime.now()\n",
    "\n",
    "for w in tqdm(s.split(' ')):\n",
    "    correction_form = russian.correction(w)\n",
    "\n",
    "    if correction_form != w:\n",
    "        w = correction_form\n",
    "    ss += w + ' '\n",
    "\n",
    "end_time = datetime.now() - start\n",
    "print('Time pyspellchecker {}'.format(end_time))\n",
    "print(ss)\n",
    "\n",
    "# ss"
   ]
  },
  {
   "cell_type": "code",
   "execution_count": 67,
   "metadata": {},
   "outputs": [
    {
     "data": {
      "text/plain": [
       "'В субботу утром. Кружок 3 летел в верх на солнце в месте с коровой также в метро смотрел ехал че 3 р. В субботу утром. Кружок 3 летел в верх на солнце в месте с коровой также в метро смотрел ехал че 3 р. В субботу утром. Кружок 3 летел в верх на солнце в месте с коровой также в метро смотрел ехал че 3 р.В субботу утром. Кружок 3 летел в верх на солнце в месте с коровой также в метро смотрел ехал че 3 р.В субботу утром. Кружок 3 летел в верх на солнце в месте с коровой также в метро смотрел ехал че 3 р.В субботу утром. Кружок 3 летел в верх на солнце в месте с коровой также в метро смотрел ехал че 3 р.В субботу утром. Кружок 3 летел в верх на солнце в месте с коровой также в метро смотрел ехал че 3 р.В субботу утром. Кружок 3 летел в верх на солнце в месте с коровой также в метро смотрел ехал че 3 р.В субботу утром. Кружок 3 летел в верх на солнце в месте с коровой также в метро смотрел ехал че 3 р.В субботу утром. Кружок 3 летел в верх на солнце в месте с коровой также в метро смотрел ехал че 3 р.В субботу утром. Кружок 3 летел в верх на солнце в месте с коровой также в метро смотрел ехал че 3 р.В субботу утром. Кружок 3 летел в верх на солнце в месте с коровой также в метро смотрел ехал че 3 р.В субботу утром. Кружок 3 летел в верх на солнце в месте с коровой также в метро смотрел ехал че 3 р.В субботу утром. Кружок 3 летел в верх на солнце в месте с коровой также в метро смотрел ехал че 3 р.В субботу утром. Кружок 3 летел в верх на солнце в месте с коровой также в метро смотрел ехал че 3 р.В субботу утром. Кружок 3 летел в верх на солнце в месте с коровой также в метро смотрел ехал че 3 р. В субботу утром. Кружок 3 летел в верх на солнце в месте с коровой также в метро смотрел ехал че 3 р.В субботу утром. Кружок 3 летел в верх на солнце в месте с коровой также в метро смотрел ехал че 3 р.В субботу утром. Кружок 3 летел в верх на солнце в месте с коровой также в метро смотрел ехал че 3 р.В субботу утром. Кружок 3 летел в верх на солнце в месте с коровой также в метро смотрел ехал че 3 р.'"
      ]
     },
     "execution_count": 67,
     "metadata": {},
     "output_type": "execute_result"
    }
   ],
   "source": [
    "fixed = speller.spelled(s)\n",
    "fixed"
   ]
  },
  {
   "cell_type": "code",
   "execution_count": 3,
   "metadata": {},
   "outputs": [],
   "source": [
    "import pandas as pd\n",
    "from nlp_functions.nlp_functions import nlp_preprocessing"
   ]
  },
  {
   "cell_type": "code",
   "execution_count": 4,
   "metadata": {},
   "outputs": [
    {
     "name": "stdout",
     "output_type": "stream",
     "text": [
      "The autoreload extension is already loaded. To reload it, use:\n",
      "  %reload_ext autoreload\n"
     ]
    }
   ],
   "source": [
    "%load_ext autoreload\n",
    "%autoreload 2"
   ]
  },
  {
   "cell_type": "code",
   "execution_count": 111,
   "metadata": {},
   "outputs": [],
   "source": [
    "# проверка месяцев\n",
    "txt1 = '1) Тексст 2) Опечатком 3)Смастирили лофт в нутри небаскребаа 4) поросоль 5) смотрибельно 6) чуства 7)ещё 8)шооу маст гооу онн'\n",
    "txt2 = '1)Никита  3)Москва 4)Иванов 5)Тридцать 6)Восемь 7)пять с кредиторами обычно 9)'\n",
    "txt3 = '1)Января 2) марта 3)апреля'\n",
    "\n",
    "df = pd.DataFrame(data=[txt1, txt2, txt3], columns=['text'])"
   ]
  },
  {
   "cell_type": "code",
   "execution_count": 116,
   "metadata": {},
   "outputs": [],
   "source": [
    "nlp_params = dict()\n",
    "\n",
    "## Основные параметры\n",
    "nlp_params['train'] = df # основной датасет\n",
    "nlp_params['oos'] = None  # при наличии (необязательный параметр)\n",
    "nlp_params['oot'] = None  # при наличии (необязательный параметр)\n",
    "nlp_params['text_field'] = 'text'  # название столбца с текстом\n",
    "nlp_params['target_name'] = None  # таргет\n",
    "\n",
    "## Простой препроцессинг\n",
    "nlp_params['need_del_dash'] = True  # тире\n",
    "nlp_params['need_lower_case'] = True  # приведение к нижнему регистру\n",
    "nlp_params['need_del_number'] = False  # числа\n",
    "nlp_params['need_del_in_brackets'] = False  # внутри скобок\n",
    "nlp_params['need_del_eng'] = True  # английские буквы\n",
    "\n",
    "## Поиск опечаток (spellcheker)\n",
    "nlp_params['need_spellchecker'] = False  # запуск поиска опечаток [True, False]\n",
    "nlp_params['need_del_spell'] = 'replace'  # действия над опечатками [delete, replace, nothing(default)] / рекомендуется использовать replace - работает в разы быстрее\n",
    "\n",
    "## Лемматизация\n",
    "nlp_params['need_lemma'] = True  # запуск лемматизации [True, False]\n",
    "nlp_params['need_lru_cache'] = True  # использование декоратора для ускорения процесса лемматизации [True, False]\n",
    "\n",
    "## Поиск сущностей (NER)\n",
    "nlp_params['need_ner'] = False  # запуск поиска сущностей [True, False]\n",
    "nlp_params['need_del_number_ner'] = 'replace'  # действия над числами [delete, replace, nothing(default)]\n",
    "nlp_params['need_del_name'] = 'replace'  # действия над именами (также)\n",
    "nlp_params['need_del_org'] = 'replace'  # действия над названиями организаций (также)\n",
    "nlp_params['need_del_geo'] = 'replace'  # действия над локациями (также)\n",
    "nlp_params['need_del_months'] = False  # действия над месяцами (True - delete, False - nothing)\n",
    "\n",
    "## Настройки для стопслов\n",
    "nlp_params['need_del_stopwords'] = True  # действия над стопсловами [True, False]\n",
    "nlp_params['new_stopwords'] = ['срань']  # новый список стопслов ['word1', 'word2']\n",
    "nlp_params['mode_stopwords'] = 'only additional list'  # режим работы со стопсловами, какие стопслова используеются ['default list', 'default list + additional list', 'only additional list']\n",
    "\n",
    "train, oos, oot = nlp_preprocessing(**nlp_params)"
   ]
  },
  {
   "cell_type": "code",
   "execution_count": 104,
   "metadata": {},
   "outputs": [
    {
     "data": {
      "text/plain": [
       "['1)Никита  3)Москва 4)Иванов 5)Тридцать 6)Восемь 7)пять с кредиторами обычно 9)',\n",
       " '1 никита 3 москва 4 иванов 5 тридцать 6 восемь 7 пять с кредитор обычно 9']"
      ]
     },
     "execution_count": 104,
     "metadata": {},
     "output_type": "execute_result"
    }
   ],
   "source": [
    "train.iloc[1].to_list()"
   ]
  },
  {
   "cell_type": "code",
   "execution_count": 97,
   "metadata": {},
   "outputs": [
    {
     "data": {
      "text/plain": [
       "['1)Никита  3)Москва 4)Иванов 5)Тридцать 6)Восемь 7)пять с кредиторами обычно 9)',\n",
       " '1 никита 3 москва 4 5 тридцать 6 восемь 7 пять кредиторами обычно 9']"
      ]
     },
     "execution_count": 97,
     "metadata": {},
     "output_type": "execute_result"
    }
   ],
   "source": [
    "train.iloc[1].to_list()"
   ]
  },
  {
   "cell_type": "code",
   "execution_count": 117,
   "metadata": {},
   "outputs": [
    {
     "data": {
      "text/html": [
       "<div>\n",
       "<style scoped>\n",
       "    .dataframe tbody tr th:only-of-type {\n",
       "        vertical-align: middle;\n",
       "    }\n",
       "\n",
       "    .dataframe tbody tr th {\n",
       "        vertical-align: top;\n",
       "    }\n",
       "\n",
       "    .dataframe thead th {\n",
       "        text-align: right;\n",
       "    }\n",
       "</style>\n",
       "<table border=\"1\" class=\"dataframe\">\n",
       "  <thead>\n",
       "    <tr style=\"text-align: right;\">\n",
       "      <th></th>\n",
       "      <th>text</th>\n",
       "      <th>new_prep_text</th>\n",
       "    </tr>\n",
       "  </thead>\n",
       "  <tbody>\n",
       "    <tr>\n",
       "      <th>0</th>\n",
       "      <td>1) Тексст 2) Опечатком 3)Смастирили лофт в нут...</td>\n",
       "      <td>1 тексст 2 опечаток 3 смастирить лофт в нутере...</td>\n",
       "    </tr>\n",
       "    <tr>\n",
       "      <th>1</th>\n",
       "      <td>1)Никита  3)Москва 4)Иванов 5)Тридцать 6)Восем...</td>\n",
       "      <td>1 никита 3 москва 4 иванов 5 тридцать 6 восемь...</td>\n",
       "    </tr>\n",
       "    <tr>\n",
       "      <th>2</th>\n",
       "      <td>1)Января 2) марта 3)апреля</td>\n",
       "      <td>1   2   3</td>\n",
       "    </tr>\n",
       "  </tbody>\n",
       "</table>\n",
       "</div>"
      ],
      "text/plain": [
       "                                                text  \\\n",
       "0  1) Тексст 2) Опечатком 3)Смастирили лофт в нут...   \n",
       "1  1)Никита  3)Москва 4)Иванов 5)Тридцать 6)Восем...   \n",
       "2                         1)Января 2) марта 3)апреля   \n",
       "\n",
       "                                       new_prep_text  \n",
       "0  1 тексст 2 опечаток 3 смастирить лофт в нутере...  \n",
       "1  1 никита 3 москва 4 иванов 5 тридцать 6 восемь...  \n",
       "2                                        1   2   3    "
      ]
     },
     "execution_count": 117,
     "metadata": {},
     "output_type": "execute_result"
    }
   ],
   "source": [
    "train"
   ]
  }
 ],
 "metadata": {
  "kernelspec": {
   "display_name": "Python 3",
   "language": "python",
   "name": "python3"
  },
  "language_info": {
   "codemirror_mode": {
    "name": "ipython",
    "version": 3
   },
   "file_extension": ".py",
   "mimetype": "text/x-python",
   "name": "python",
   "nbconvert_exporter": "python",
   "pygments_lexer": "ipython3",
   "version": "3.6.2"
  }
 },
 "nbformat": 4,
 "nbformat_minor": 4
}
