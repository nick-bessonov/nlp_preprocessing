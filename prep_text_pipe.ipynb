{
 "cells": [
  {
   "cell_type": "code",
   "execution_count": 1,
   "metadata": {
    "collapsed": true
   },
   "outputs": [],
   "source": [
    "from pyaspeller import YandexSpeller, Word\n",
    "from spellchecker import SpellChecker\n",
    "from tqdm import tqdm\n",
    "from datetime import datetime\n",
    "import pandas as pd"
   ]
  },
  {
   "cell_type": "code",
   "execution_count": 2,
   "metadata": {
    "collapsed": true
   },
   "outputs": [],
   "source": [
    "# тестовые данные\n",
    "\n",
    "data = pd.read_csv('data\\prepr_set.csv')"
   ]
  },
  {
   "cell_type": "code",
   "execution_count": 3,
   "metadata": {
    "collapsed": true
   },
   "outputs": [],
   "source": [
    "from preprocessing_functions.nlp_functions import nlp_preprocessing\n",
    "from preprocessing_functions.tf_idf_preprocessing import tf_idf"
   ]
  },
  {
   "cell_type": "markdown",
   "metadata": {},
   "source": [
    "### Отключение парал-ти\n",
    "Для того чтобы отключить парал-ть вычислений нужно зайти в файл nlp_functions.py, по поиску Parallel найти где используется эта опция, оставить пустые скобки в Parallel(). Чтобы влкючить и использовать все доступные потоки процессора нужно поставить там же в скобках n_jobs=-1."
   ]
  },
  {
   "cell_type": "code",
   "execution_count": 4,
   "metadata": {
    "collapsed": true
   },
   "outputs": [],
   "source": [
    "%load_ext autoreload\n",
    "%autoreload 2"
   ]
  },
  {
   "cell_type": "code",
   "execution_count": 5,
   "metadata": {
    "collapsed": true
   },
   "outputs": [],
   "source": [
    "# 1 \n",
    "# проверка месяцев\n",
    "txt1 = '1) Тексст 2) Кромольным 3) Смастирили небаскребаа 4) карова 5) чуства'\n",
    "txt2 = 'Мы тестируем продукты в реальных магазинах, маркетинговый отчет о результатах продаж.'\n",
    "txt3 = '1) Оля 2) Москва 3) Яндекс 4) c 5) В 6) я 7)'\n",
    "\n",
    "df = pd.DataFrame(data=[txt1, txt2, txt3], columns=['text'])"
   ]
  },
  {
   "cell_type": "code",
   "execution_count": 20,
   "metadata": {
    "collapsed": true
   },
   "outputs": [],
   "source": [
    "# 2\n",
    "df = data.iloc[:100]['txt'].to_frame()\n",
    "df.columns = ['text']"
   ]
  },
  {
   "cell_type": "markdown",
   "metadata": {},
   "source": [
    "### Препроцессинг текста"
   ]
  },
  {
   "cell_type": "code",
   "execution_count": 21,
   "metadata": {},
   "outputs": [
    {
     "name": "stdout",
     "output_type": "stream",
     "text": [
      "Trash chars done! - 0:00:00.012001\n",
      "\n",
      "\n",
      "\n",
      "Lemmatization / Spellcheker / NER done! - 0:00:49.942236\n",
      "\n",
      "Delete stop words done! - 0:00:00.025996\n",
      "Preprocessing done!\n"
     ]
    }
   ],
   "source": [
    "nlp_params = dict()\n",
    "\n",
    "## Основные параметры\n",
    "nlp_params['train'] = df # основной датасет\n",
    "nlp_params['oos'] = None  # out-of-sample при наличии (необязательный параметр)\n",
    "nlp_params['oot'] = None  # out-of-time при наличии (необязательный параметр)\n",
    "nlp_params['text_field'] = 'text'  # название столбца с текстом\n",
    "\n",
    "## Простой препроцессинг\n",
    "nlp_params['need_del_dash'] = True  # удаление тире\n",
    "nlp_params['need_lower_case'] = True  # приведение к нижнему регистру\n",
    "nlp_params['need_del_number'] = False  # удаление чисел\n",
    "nlp_params['need_del_in_brackets'] = False  # внутри скобок\n",
    "nlp_params['need_del_eng'] = True  # английские буквы\n",
    "\n",
    "## Поиск опечаток (spellcheker)\n",
    "nlp_params['need_spellchecker'] = True  # запуск поиска опечаток [True, False]\n",
    "# действия над опечатками [delete, replace, nothing(default)] / рекомендуется использовать replace - работает в разы быстрее\n",
    "nlp_params['need_del_spell'] = 'replace'\n",
    "\n",
    "## Лемматизация\n",
    "nlp_params['need_lemma'] = True  # запуск лемматизации [True, False]\n",
    "nlp_params['need_lru_cache'] = True  # использование декоратора для ускорения процесса лемматизации [True, False] (рекомендуется)\n",
    "\n",
    "## Поиск сущностей (NER) | поиск сущностей следует запускать только после лемматизации слов\n",
    "nlp_params['need_ner'] = True  # запуск поиска сущностей [True, False]\n",
    "nlp_params['need_del_number_ner'] = 'nothing'  # действия над числами [delete, replace, nothing(default)]\n",
    "nlp_params['need_del_name'] = 'replace'  # действия над именами (также)\n",
    "nlp_params['need_del_org'] = 'replace'  # действия над названиями организаций (также)\n",
    "nlp_params['need_del_geo'] = 'replace'  # действия над локациями (также)\n",
    "nlp_params['need_del_months'] = True  # действия над месяцами (True - delete, False - nothing)\n",
    "\n",
    "## Настройки для стопслов\n",
    "nlp_params['need_del_stopwords'] = True  # действия над стопсловами [True, False]\n",
    "nlp_params['new_stopwords'] = []  # новый список стопслов ['word1', 'word2']\n",
    "# режим работы со стопсловами, какие стопслова используются ['default list', 'default list + additional list', 'only additional list']\n",
    "nlp_params['mode_stopwords'] = 'default list'  \n",
    "\n",
    "train, oos, oot = nlp_preprocessing(**nlp_params)"
   ]
  },
  {
   "cell_type": "code",
   "execution_count": 23,
   "metadata": {
    "scrolled": true
   },
   "outputs": [
    {
     "data": {
      "text/plain": [
       "['1) Тексст 2) Кромольным 3) Смастирили небаскребаа 4) карова 5) чуства',\n",
       " '1 текст 2 крамольный 3 смастерить небоскреб 4 корова 5 чувство']"
      ]
     },
     "execution_count": 23,
     "metadata": {},
     "output_type": "execute_result"
    }
   ],
   "source": [
    "train.iloc[0].to_list()"
   ]
  },
  {
   "cell_type": "code",
   "execution_count": 16,
   "metadata": {},
   "outputs": [
    {
     "data": {
      "text/plain": [
       "['Мы тестируем продукты в реальных магазинах, маркетинговый отчет о результатах продаж.',\n",
       " ' тестировать продукт реальный магазин маркетинговый отчет результат продажа']"
      ]
     },
     "execution_count": 16,
     "metadata": {},
     "output_type": "execute_result"
    }
   ],
   "source": [
    "train.iloc[1].to_list()"
   ]
  },
  {
   "cell_type": "code",
   "execution_count": 17,
   "metadata": {},
   "outputs": [
    {
     "data": {
      "text/plain": [
       "['1) Оля 2) Москва 3) Яндекс 4) c 5) В 6) я 7)',\n",
       " '1 NAME 2 GEO 3 ORGANIZATION 4 5 6 7']"
      ]
     },
     "execution_count": 17,
     "metadata": {},
     "output_type": "execute_result"
    }
   ],
   "source": [
    "train.iloc[2].to_list()"
   ]
  },
  {
   "cell_type": "markdown",
   "metadata": {},
   "source": [
    "### Векторизация текста с помощью TFiDF"
   ]
  },
  {
   "cell_type": "code",
   "execution_count": 18,
   "metadata": {
    "collapsed": true
   },
   "outputs": [],
   "source": [
    "tf_idf_params = dict()\n",
    "\n",
    "params = { # Параметры TFidfVectorizer()\n",
    "    'ngram_range': (1, 1) # задаем размер н-грамм\n",
    "}\n",
    "\n",
    "## Основные параметры\n",
    "tf_idf_params['train'] = train # основной датасет\n",
    "tf_idf_params['oos'] = None  # out-of-sample при наличии (необязательный параметр)\n",
    "tf_idf_params['oot'] = None  # out-of-time при наличии (необязательный параметр)\n",
    "tf_idf_params['text_field'] = 'new_prep_text'  # название столбца с текстом\n",
    "tf_idf_params['target_name'] = None  # название поля с таргетом\n",
    "\n",
    "## Параметры TFiDF\n",
    "tf_idf_params['params'] = params\n",
    "\n",
    "train, oos, oot = tf_idf(**tf_idf_params)"
   ]
  },
  {
   "cell_type": "code",
   "execution_count": 19,
   "metadata": {},
   "outputs": [
    {
     "data": {
      "text/html": [
       "<div>\n",
       "<style scoped>\n",
       "    .dataframe tbody tr th:only-of-type {\n",
       "        vertical-align: middle;\n",
       "    }\n",
       "\n",
       "    .dataframe tbody tr th {\n",
       "        vertical-align: top;\n",
       "    }\n",
       "\n",
       "    .dataframe thead th {\n",
       "        text-align: right;\n",
       "    }\n",
       "</style>\n",
       "<table border=\"1\" class=\"dataframe\">\n",
       "  <thead>\n",
       "    <tr style=\"text-align: right;\">\n",
       "      <th></th>\n",
       "      <th>0</th>\n",
       "      <th>1</th>\n",
       "      <th>2</th>\n",
       "      <th>3</th>\n",
       "      <th>4</th>\n",
       "      <th>5</th>\n",
       "      <th>6</th>\n",
       "      <th>7</th>\n",
       "      <th>8</th>\n",
       "      <th>9</th>\n",
       "      <th>10</th>\n",
       "      <th>11</th>\n",
       "      <th>12</th>\n",
       "      <th>13</th>\n",
       "      <th>14</th>\n",
       "      <th>15</th>\n",
       "      <th>16</th>\n",
       "    </tr>\n",
       "  </thead>\n",
       "  <tbody>\n",
       "    <tr>\n",
       "      <th>0</th>\n",
       "      <td>0.00000</td>\n",
       "      <td>0.00000</td>\n",
       "      <td>0.00000</td>\n",
       "      <td>0.408248</td>\n",
       "      <td>0.408248</td>\n",
       "      <td>0.000000</td>\n",
       "      <td>0.000000</td>\n",
       "      <td>0.408248</td>\n",
       "      <td>0.000000</td>\n",
       "      <td>0.000000</td>\n",
       "      <td>0.000000</td>\n",
       "      <td>0.000000</td>\n",
       "      <td>0.000000</td>\n",
       "      <td>0.408248</td>\n",
       "      <td>0.408248</td>\n",
       "      <td>0.000000</td>\n",
       "      <td>0.408248</td>\n",
       "    </tr>\n",
       "    <tr>\n",
       "      <th>1</th>\n",
       "      <td>0.00000</td>\n",
       "      <td>0.00000</td>\n",
       "      <td>0.00000</td>\n",
       "      <td>0.000000</td>\n",
       "      <td>0.000000</td>\n",
       "      <td>0.353553</td>\n",
       "      <td>0.353553</td>\n",
       "      <td>0.000000</td>\n",
       "      <td>0.353553</td>\n",
       "      <td>0.353553</td>\n",
       "      <td>0.353553</td>\n",
       "      <td>0.353553</td>\n",
       "      <td>0.353553</td>\n",
       "      <td>0.000000</td>\n",
       "      <td>0.000000</td>\n",
       "      <td>0.353553</td>\n",
       "      <td>0.000000</td>\n",
       "    </tr>\n",
       "    <tr>\n",
       "      <th>2</th>\n",
       "      <td>0.57735</td>\n",
       "      <td>0.57735</td>\n",
       "      <td>0.57735</td>\n",
       "      <td>0.000000</td>\n",
       "      <td>0.000000</td>\n",
       "      <td>0.000000</td>\n",
       "      <td>0.000000</td>\n",
       "      <td>0.000000</td>\n",
       "      <td>0.000000</td>\n",
       "      <td>0.000000</td>\n",
       "      <td>0.000000</td>\n",
       "      <td>0.000000</td>\n",
       "      <td>0.000000</td>\n",
       "      <td>0.000000</td>\n",
       "      <td>0.000000</td>\n",
       "      <td>0.000000</td>\n",
       "      <td>0.000000</td>\n",
       "    </tr>\n",
       "  </tbody>\n",
       "</table>\n",
       "</div>"
      ],
      "text/plain": [
       "        0        1        2         3         4         5         6   \\\n",
       "0  0.00000  0.00000  0.00000  0.408248  0.408248  0.000000  0.000000   \n",
       "1  0.00000  0.00000  0.00000  0.000000  0.000000  0.353553  0.353553   \n",
       "2  0.57735  0.57735  0.57735  0.000000  0.000000  0.000000  0.000000   \n",
       "\n",
       "         7         8         9         10        11        12        13  \\\n",
       "0  0.408248  0.000000  0.000000  0.000000  0.000000  0.000000  0.408248   \n",
       "1  0.000000  0.353553  0.353553  0.353553  0.353553  0.353553  0.000000   \n",
       "2  0.000000  0.000000  0.000000  0.000000  0.000000  0.000000  0.000000   \n",
       "\n",
       "         14        15        16  \n",
       "0  0.408248  0.000000  0.408248  \n",
       "1  0.000000  0.353553  0.000000  \n",
       "2  0.000000  0.000000  0.000000  "
      ]
     },
     "execution_count": 19,
     "metadata": {},
     "output_type": "execute_result"
    }
   ],
   "source": [
    "train"
   ]
  }
 ],
 "metadata": {
  "kernelspec": {
   "display_name": "Python 3",
   "language": "python",
   "name": "python3"
  },
  "language_info": {
   "codemirror_mode": {
    "name": "ipython",
    "version": 3
   },
   "file_extension": ".py",
   "mimetype": "text/x-python",
   "name": "python",
   "nbconvert_exporter": "python",
   "pygments_lexer": "ipython3",
   "version": "3.6.2"
  }
 },
 "nbformat": 4,
 "nbformat_minor": 4
}
